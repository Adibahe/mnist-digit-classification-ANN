{
 "cells": [
  {
   "cell_type": "code",
   "execution_count": 1,
   "id": "d2c68787",
   "metadata": {
    "_cell_guid": "b1076dfc-b9ad-4769-8c92-a6c4dae69d19",
    "_uuid": "8f2839f25d086af736a60e9eeb907d3b93b6e0e5",
    "execution": {
     "iopub.execute_input": "2025-04-14T03:48:40.058294Z",
     "iopub.status.busy": "2025-04-14T03:48:40.057888Z",
     "iopub.status.idle": "2025-04-14T03:48:42.104252Z",
     "shell.execute_reply": "2025-04-14T03:48:42.103133Z"
    },
    "papermill": {
     "duration": 2.055152,
     "end_time": "2025-04-14T03:48:42.105960",
     "exception": false,
     "start_time": "2025-04-14T03:48:40.050808",
     "status": "completed"
    },
    "tags": []
   },
   "outputs": [],
   "source": [
    "import numpy as np\n",
    "import pandas as pd\n",
    "from matplotlib import pyplot as plt"
   ]
  },
  {
   "cell_type": "code",
   "execution_count": 2,
   "id": "68abbad9",
   "metadata": {
    "execution": {
     "iopub.execute_input": "2025-04-14T03:48:42.112928Z",
     "iopub.status.busy": "2025-04-14T03:48:42.112471Z",
     "iopub.status.idle": "2025-04-14T03:48:46.045517Z",
     "shell.execute_reply": "2025-04-14T03:48:46.044483Z"
    },
    "papermill": {
     "duration": 3.938404,
     "end_time": "2025-04-14T03:48:46.047429",
     "exception": false,
     "start_time": "2025-04-14T03:48:42.109025",
     "status": "completed"
    },
    "tags": []
   },
   "outputs": [],
   "source": [
    "data = pd.read_csv('/kaggle/input/mnist-digit-recognizer/train.csv')\n",
    "data = np.array(data)\n",
    "m, n = data.shape \n",
    "np.random.shuffle(data)"
   ]
  },
  {
   "cell_type": "code",
   "execution_count": 3,
   "id": "a80f3899",
   "metadata": {
    "execution": {
     "iopub.execute_input": "2025-04-14T03:48:46.053762Z",
     "iopub.status.busy": "2025-04-14T03:48:46.053452Z",
     "iopub.status.idle": "2025-04-14T03:48:46.215125Z",
     "shell.execute_reply": "2025-04-14T03:48:46.214211Z"
    },
    "papermill": {
     "duration": 0.166747,
     "end_time": "2025-04-14T03:48:46.216765",
     "exception": false,
     "start_time": "2025-04-14T03:48:46.050018",
     "status": "completed"
    },
    "tags": []
   },
   "outputs": [],
   "source": [
    "data_dev = data[:1000].T\n",
    "y_test = data_dev[0].astype(int)       \n",
    "x_test = data_dev[1:] / 255.0           \n",
    "\n",
    "data_train = data[1000:].T\n",
    "y_train = data_train[0].astype(int)   \n",
    "x_train = data_train[1:] / 255.0       "
   ]
  },
  {
   "cell_type": "code",
   "execution_count": 4,
   "id": "6dddf87a",
   "metadata": {
    "execution": {
     "iopub.execute_input": "2025-04-14T03:48:46.223521Z",
     "iopub.status.busy": "2025-04-14T03:48:46.222978Z",
     "iopub.status.idle": "2025-04-14T03:48:46.236899Z",
     "shell.execute_reply": "2025-04-14T03:48:46.235977Z"
    },
    "papermill": {
     "duration": 0.019685,
     "end_time": "2025-04-14T03:48:46.239083",
     "exception": false,
     "start_time": "2025-04-14T03:48:46.219398",
     "status": "completed"
    },
    "tags": []
   },
   "outputs": [],
   "source": [
    "def initial_parameters():\n",
    "    W1 = np.random.rand(128, 784) - 0.5\n",
    "    b1 = np.random.rand(128, 1) - 0.5\n",
    "    W2 = np.random.rand(64, 128) - 0.5\n",
    "    b2 = np.random.rand(64, 1) - 0.5\n",
    "    w3 = np.random.rand(10, 64) - 0.5\n",
    "    b3 = np.random.rand(10, 1) - 0.5\n",
    "    return W1, b1, W2, b2, w3, b3\n",
    "\n",
    "\n",
    "def relu(z):\n",
    "    return np.maximum(0, z)\n",
    "\n",
    "def softmax(z):\n",
    "    exp_z = np.exp(z - np.max(z, axis=0, keepdims=True))  \n",
    "    return exp_z / np.sum(exp_z, axis=0, keepdims=True)\n",
    "\n",
    "\n",
    "def forward_propagation(W1, b1, W2, b2, w3, b3, X):\n",
    "    z1 = W1.dot(X) + b1\n",
    "    a1 = relu(z1)\n",
    "    z2 = W2.dot(a1) + b2\n",
    "    a2 = relu(z2)\n",
    "    z3 = w3.dot(a2) + b3\n",
    "    a3 = softmax(z3)\n",
    "    return z1, a1, z2, a2, z3, a3\n",
    "\n",
    "\n",
    "def one_hot(Y):\n",
    "    one_hot_y = np.zeros((Y.size, Y.max() + 1))\n",
    "    one_hot_y[np.arange(Y.size), Y.astype(int)] = 1\n",
    "    return one_hot_y.T\n",
    "\n",
    "\n",
    "def deriv_relu(Z):\n",
    "    return Z > 0\n",
    "\n",
    "\n",
    "def back_propagation(z1, a1, z2, a2, z3, a3, W2, W3, X, Y):\n",
    "    m = Y.size\n",
    "    one_hot_y = one_hot(Y)\n",
    "\n",
    "    dz3 = a3 - one_hot_y\n",
    "    dw3 = (1 / m) * dz3.dot(a2.T)\n",
    "    db3 = (1 / m) * np.sum(dz3, axis = 1, keepdims = True)\n",
    "    \n",
    "    dz2 = W3.T.dot(dz3) * deriv_relu(z2)\n",
    "    dw2 = (1 / m) * dz2.dot(a1.T)\n",
    "    db2 = (1 / m) * np.sum(dz2, axis=1, keepdims=True)\n",
    "    \n",
    "    dz1 = W2.T.dot(dz2) * deriv_relu(z1)\n",
    "    dw1 = (1 / m) * dz1.dot(X.T)\n",
    "    db1 = (1 / m) * np.sum(dz1, axis=1, keepdims=True)\n",
    "    \n",
    "    return dw1, db1, dw2, db2, dw3, db3\n",
    "\n",
    "\n",
    "def update_params(W1, b1, W2, b2, W3, b3, dw1, db1, dw2, db2, dw3, db3, alpha):\n",
    "    W1 = W1 - alpha * dw1\n",
    "    b1 = b1 - alpha * db1\n",
    "    W2 = W2 - alpha * dw2\n",
    "    b2 = b2 - alpha * db2\n",
    "    W3 = W3 - alpha * dw3\n",
    "    b3 = b3 - alpha * db3\n",
    "    return W1, b1, W2, b2, W3, b3\n"
   ]
  },
  {
   "cell_type": "code",
   "execution_count": 5,
   "id": "e8fa2281",
   "metadata": {
    "execution": {
     "iopub.execute_input": "2025-04-14T03:48:46.245834Z",
     "iopub.status.busy": "2025-04-14T03:48:46.245514Z",
     "iopub.status.idle": "2025-04-14T03:48:46.254613Z",
     "shell.execute_reply": "2025-04-14T03:48:46.253171Z"
    },
    "papermill": {
     "duration": 0.014559,
     "end_time": "2025-04-14T03:48:46.256601",
     "exception": false,
     "start_time": "2025-04-14T03:48:46.242042",
     "status": "completed"
    },
    "tags": []
   },
   "outputs": [],
   "source": [
    "def get_predictions(a3):\n",
    "    return np.argmax(a3, axis=0)\n",
    "\n",
    "\n",
    "def get_accuracy(predictions, Y):\n",
    "    return np.sum(predictions == Y) / Y.size\n",
    "\n",
    "\n",
    "def gradient_descent(X, Y, iterations, alpha):\n",
    "    W1, b1, W2, b2, W3, b3 = initial_parameters()\n",
    "    \n",
    "    for i in range(iterations):\n",
    "        z1, a1, z2, a2, z3, a3 = forward_propagation(W1, b1, W2, b2, W3, b3, X)\n",
    "        dw1, db1, dw2, db2, dw3, db3 = back_propagation(z1, a1, z2, a2, z3, a3, W2, W3, X, Y)\n",
    "        W1, b1, W2, b2, w3, b3 = update_params(W1, b1, W2, b2, W3, b3, dw1, db1, dw2, db2, dw3, db3, alpha)\n",
    "        \n",
    "        if i % 50 == 0:\n",
    "            predictions = get_predictions(a3)\n",
    "            accuracy = get_accuracy(predictions, Y)\n",
    "            print(f\"Iteration: {i} - Accuracy: {accuracy:.4f}\")\n",
    "    \n",
    "    return W1, b1, W2, b2, W3, b3\n"
   ]
  },
  {
   "cell_type": "code",
   "execution_count": 6,
   "id": "fca64c1b",
   "metadata": {
    "execution": {
     "iopub.execute_input": "2025-04-14T03:48:46.263460Z",
     "iopub.status.busy": "2025-04-14T03:48:46.263134Z",
     "iopub.status.idle": "2025-04-14T03:48:46.269926Z",
     "shell.execute_reply": "2025-04-14T03:48:46.268927Z"
    },
    "papermill": {
     "duration": 0.012438,
     "end_time": "2025-04-14T03:48:46.271664",
     "exception": false,
     "start_time": "2025-04-14T03:48:46.259226",
     "status": "completed"
    },
    "tags": []
   },
   "outputs": [],
   "source": [
    "def make_predictions(x, w1, b1, w2, b2, w3, b3):\n",
    "    _, _, _, _, _, a3 = forward_propagation(w1, b1, w2, b2, w3, b3, x)\n",
    "    predictions = get_predictions(a3)\n",
    "    return predictions\n",
    "\n",
    "def test_predictions(index, w1, b1, w2, b2, w3, b3):\n",
    "    current_image = x_test[:, index, None]\n",
    "    prediction = make_predictions(current_image, w1, b1, w2, b2, w3, b3)\n",
    "    label = y_test[index]\n",
    "    \n",
    "    print(\"Label:\", label)\n",
    "    print(\"Prediction:\", prediction[0])\n",
    "    \n",
    "    current_image = current_image.reshape((28, 28)) * 255\n",
    "    plt.gray()\n",
    "    plt.imshow(current_image, interpolation='nearest')\n",
    "    plt.show()\n"
   ]
  },
  {
   "cell_type": "code",
   "execution_count": 7,
   "id": "b0165468",
   "metadata": {
    "execution": {
     "iopub.execute_input": "2025-04-14T03:48:46.277894Z",
     "iopub.status.busy": "2025-04-14T03:48:46.277417Z",
     "iopub.status.idle": "2025-04-14T03:52:27.124908Z",
     "shell.execute_reply": "2025-04-14T03:52:27.123812Z"
    },
    "papermill": {
     "duration": 220.853421,
     "end_time": "2025-04-14T03:52:27.127575",
     "exception": false,
     "start_time": "2025-04-14T03:48:46.274154",
     "status": "completed"
    },
    "tags": []
   },
   "outputs": [
    {
     "name": "stdout",
     "output_type": "stream",
     "text": [
      "Iteration: 0 - Accuracy: 0.1261\n",
      "Iteration: 50 - Accuracy: 0.7474\n",
      "Iteration: 100 - Accuracy: 0.8174\n",
      "Iteration: 150 - Accuracy: 0.8489\n",
      "Iteration: 200 - Accuracy: 0.8677\n",
      "Iteration: 250 - Accuracy: 0.8799\n",
      "Iteration: 300 - Accuracy: 0.8899\n",
      "Iteration: 350 - Accuracy: 0.8974\n",
      "Iteration: 400 - Accuracy: 0.9035\n",
      "Iteration: 450 - Accuracy: 0.9083\n"
     ]
    }
   ],
   "source": [
    "w1, b1, w2, b2, w3, b3 = gradient_descent(x_train, y_train, 500, 0.1)"
   ]
  },
  {
   "cell_type": "code",
   "execution_count": null,
   "id": "575c398f",
   "metadata": {
    "papermill": {
     "duration": 0.003102,
     "end_time": "2025-04-14T03:52:27.451737",
     "exception": false,
     "start_time": "2025-04-14T03:52:27.448635",
     "status": "completed"
    },
    "tags": []
   },
   "outputs": [],
   "source": []
  }
 ],
 "metadata": {
  "kaggle": {
   "accelerator": "none",
   "dataSources": [
    {
     "datasetId": 3147,
     "sourceId": 5196,
     "sourceType": "datasetVersion"
    }
   ],
   "dockerImageVersionId": 31012,
   "isGpuEnabled": false,
   "isInternetEnabled": false,
   "language": "python",
   "sourceType": "notebook"
  },
  "kernelspec": {
   "display_name": "Python 3",
   "language": "python",
   "name": "python3"
  },
  "language_info": {
   "codemirror_mode": {
    "name": "ipython",
    "version": 3
   },
   "file_extension": ".py",
   "mimetype": "text/x-python",
   "name": "python",
   "nbconvert_exporter": "python",
   "pygments_lexer": "ipython3",
   "version": "3.11.11"
  },
  "papermill": {
   "default_parameters": {},
   "duration": 234.349553,
   "end_time": "2025-04-14T03:52:28.076533",
   "environment_variables": {},
   "exception": null,
   "input_path": "__notebook__.ipynb",
   "output_path": "__notebook__.ipynb",
   "parameters": {},
   "start_time": "2025-04-14T03:48:33.726980",
   "version": "2.6.0"
  }
 },
 "nbformat": 4,
 "nbformat_minor": 5
}
