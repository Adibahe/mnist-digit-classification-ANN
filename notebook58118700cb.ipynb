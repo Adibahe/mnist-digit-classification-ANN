{
 "cells": [
  {
   "cell_type": "code",
   "execution_count": 1,
   "id": "2d6a1ea2",
   "metadata": {
    "_cell_guid": "b1076dfc-b9ad-4769-8c92-a6c4dae69d19",
    "_uuid": "8f2839f25d086af736a60e9eeb907d3b93b6e0e5",
    "execution": {
     "iopub.execute_input": "2025-04-13T18:58:22.706170Z",
     "iopub.status.busy": "2025-04-13T18:58:22.705255Z",
     "iopub.status.idle": "2025-04-13T18:58:24.641476Z",
     "shell.execute_reply": "2025-04-13T18:58:24.640598Z"
    },
    "papermill": {
     "duration": 1.94213,
     "end_time": "2025-04-13T18:58:24.643231",
     "exception": false,
     "start_time": "2025-04-13T18:58:22.701101",
     "status": "completed"
    },
    "tags": []
   },
   "outputs": [],
   "source": [
    "import numpy as np\n",
    "import pandas as pd\n",
    "from matplotlib import pyplot as plt"
   ]
  },
  {
   "cell_type": "code",
   "execution_count": 2,
   "id": "d7e4fa0d",
   "metadata": {
    "execution": {
     "iopub.execute_input": "2025-04-13T18:58:24.651064Z",
     "iopub.status.busy": "2025-04-13T18:58:24.649953Z",
     "iopub.status.idle": "2025-04-13T18:58:29.327838Z",
     "shell.execute_reply": "2025-04-13T18:58:29.326831Z"
    },
    "papermill": {
     "duration": 4.683246,
     "end_time": "2025-04-13T18:58:29.329614",
     "exception": false,
     "start_time": "2025-04-13T18:58:24.646368",
     "status": "completed"
    },
    "tags": []
   },
   "outputs": [],
   "source": [
    "data = pd.read_csv('/kaggle/input/mnist-digit-recognizer/train.csv')\n",
    "data = np.array(data)\n",
    "m, n = data.shape \n",
    "np.random.shuffle(data)"
   ]
  },
  {
   "cell_type": "code",
   "execution_count": 3,
   "id": "0a29559d",
   "metadata": {
    "execution": {
     "iopub.execute_input": "2025-04-13T18:58:29.335836Z",
     "iopub.status.busy": "2025-04-13T18:58:29.335545Z",
     "iopub.status.idle": "2025-04-13T18:58:29.497984Z",
     "shell.execute_reply": "2025-04-13T18:58:29.497025Z"
    },
    "papermill": {
     "duration": 0.167743,
     "end_time": "2025-04-13T18:58:29.499914",
     "exception": false,
     "start_time": "2025-04-13T18:58:29.332171",
     "status": "completed"
    },
    "tags": []
   },
   "outputs": [],
   "source": [
    "data_dev = data[:1000].T\n",
    "y_test = data_dev[0].astype(int)       \n",
    "x_test = data_dev[1:] / 255.0           \n",
    "\n",
    "data_train = data[1000:].T\n",
    "y_train = data_train[0].astype(int)   \n",
    "x_train = data_train[1:] / 255.0       "
   ]
  },
  {
   "cell_type": "code",
   "execution_count": 4,
   "id": "1024fbc7",
   "metadata": {
    "execution": {
     "iopub.execute_input": "2025-04-13T18:58:29.506215Z",
     "iopub.status.busy": "2025-04-13T18:58:29.505850Z",
     "iopub.status.idle": "2025-04-13T18:58:29.516208Z",
     "shell.execute_reply": "2025-04-13T18:58:29.515256Z"
    },
    "papermill": {
     "duration": 0.015333,
     "end_time": "2025-04-13T18:58:29.517864",
     "exception": false,
     "start_time": "2025-04-13T18:58:29.502531",
     "status": "completed"
    },
    "tags": []
   },
   "outputs": [],
   "source": [
    "def initial_parameters():\n",
    "    W1 = np.random.rand(10, 784) - 0.5\n",
    "    b1 = np.random.rand(10, 1) - 0.5\n",
    "    W2 = np.random.rand(10, 10) - 0.5\n",
    "    b2 = np.random.rand(10, 1) - 0.5\n",
    "    return W1, b1, W2, b2\n",
    "\n",
    "\n",
    "def relu(z):\n",
    "    return np.maximum(0, z)\n",
    "\n",
    "def softmax(z):\n",
    "    exp_z = np.exp(z - np.max(z, axis=0, keepdims=True))  \n",
    "    return exp_z / np.sum(exp_z, axis=0, keepdims=True)\n",
    "\n",
    "\n",
    "def forward_propagation(W1, b1, W2, b2, X):\n",
    "    z1 = W1.dot(X) + b1\n",
    "    a1 = relu(z1)\n",
    "    z2 = W2.dot(a1) + b2\n",
    "    a2 = softmax(z2)\n",
    "    return z1, a1, z2, a2\n",
    "\n",
    "\n",
    "def one_hot(Y):\n",
    "    one_hot_y = np.zeros((Y.size, Y.max() + 1))\n",
    "    one_hot_y[np.arange(Y.size), Y.astype(int)] = 1\n",
    "    return one_hot_y.T\n",
    "\n",
    "\n",
    "def deriv_relu(Z):\n",
    "    return Z > 0\n",
    "\n",
    "\n",
    "def back_propagation(z1, a1, z2, a2, W2, X, Y):\n",
    "    m = Y.size\n",
    "    one_hot_y = one_hot(Y)\n",
    "    \n",
    "    dz2 = a2 - one_hot_y\n",
    "    dw2 = (1 / m) * dz2.dot(a1.T)\n",
    "    db2 = (1 / m) * np.sum(dz2, axis=1, keepdims=True)\n",
    "    \n",
    "    dz1 = W2.T.dot(dz2) * deriv_relu(z1)\n",
    "    dw1 = (1 / m) * dz1.dot(X.T)\n",
    "    db1 = (1 / m) * np.sum(dz1, axis=1, keepdims=True)\n",
    "    \n",
    "    return dw1, db1, dw2, db2\n",
    "\n",
    "\n",
    "def update_params(W1, b1, W2, b2, dw1, db1, dw2, db2, alpha):\n",
    "    W1 = W1 - alpha * dw1\n",
    "    b1 = b1 - alpha * db1\n",
    "    W2 = W2 - alpha * dw2\n",
    "    b2 = b2 - alpha * db2\n",
    "    return W1, b1, W2, b2\n"
   ]
  },
  {
   "cell_type": "code",
   "execution_count": 5,
   "id": "40b3c9da",
   "metadata": {
    "execution": {
     "iopub.execute_input": "2025-04-13T18:58:29.523992Z",
     "iopub.status.busy": "2025-04-13T18:58:29.523687Z",
     "iopub.status.idle": "2025-04-13T18:58:29.530844Z",
     "shell.execute_reply": "2025-04-13T18:58:29.529954Z"
    },
    "papermill": {
     "duration": 0.011886,
     "end_time": "2025-04-13T18:58:29.532306",
     "exception": false,
     "start_time": "2025-04-13T18:58:29.520420",
     "status": "completed"
    },
    "tags": []
   },
   "outputs": [],
   "source": [
    "def get_predictions(a2):\n",
    "    return np.argmax(a2, axis=0)\n",
    "\n",
    "\n",
    "def get_accuracy(predictions, Y):\n",
    "    return np.sum(predictions == Y) / Y.size\n",
    "\n",
    "\n",
    "def gradient_descent(X, Y, iterations, alpha):\n",
    "    W1, b1, W2, b2 = initial_parameters()\n",
    "    \n",
    "    for i in range(iterations):\n",
    "        z1, a1, z2, a2 = forward_propagation(W1, b1, W2, b2, X)\n",
    "        dw1, db1, dw2, db2 = back_propagation(z1, a1, z2, a2, W2, X, Y)\n",
    "        W1, b1, W2, b2 = update_params(W1, b1, W2, b2, dw1, db1, dw2, db2, alpha)\n",
    "        \n",
    "        if i % 50 == 0:\n",
    "            predictions = get_predictions(a2)\n",
    "            accuracy = get_accuracy(predictions, Y)\n",
    "            print(f\"Iteration: {i} - Accuracy: {accuracy:.4f}\")\n",
    "    \n",
    "    return W1, b1, W2, b2\n"
   ]
  },
  {
   "cell_type": "code",
   "execution_count": 6,
   "id": "86eff7d7",
   "metadata": {
    "execution": {
     "iopub.execute_input": "2025-04-13T18:58:29.538410Z",
     "iopub.status.busy": "2025-04-13T18:58:29.538089Z",
     "iopub.status.idle": "2025-04-13T18:58:29.544567Z",
     "shell.execute_reply": "2025-04-13T18:58:29.543620Z"
    },
    "papermill": {
     "duration": 0.011331,
     "end_time": "2025-04-13T18:58:29.546180",
     "exception": false,
     "start_time": "2025-04-13T18:58:29.534849",
     "status": "completed"
    },
    "tags": []
   },
   "outputs": [],
   "source": [
    "def make_predictions(x, w1, b1, w2, b2):\n",
    "    _, _, _, a2 = forward_propagation(w1, b1, w2, b2, x)\n",
    "    predictions = get_predictions(a2)\n",
    "    return predictions\n",
    "\n",
    "def test_predictions(index, w1, b1, w2, b2):\n",
    "    current_image = x_train[:, index, None]\n",
    "    prediction = make_predictions(current_image, w1, b1, w2, b2)\n",
    "    label = y_train[index]\n",
    "    \n",
    "    print(\"Label:\", label)\n",
    "    print(\"Prediction:\", prediction[0])\n",
    "    \n",
    "    current_image = current_image.reshape((28, 28)) * 255\n",
    "    plt.gray()\n",
    "    plt.imshow(current_image, interpolation='nearest')\n",
    "    plt.show()\n"
   ]
  },
  {
   "cell_type": "code",
   "execution_count": 7,
   "id": "09e56b8b",
   "metadata": {
    "execution": {
     "iopub.execute_input": "2025-04-13T18:58:29.552639Z",
     "iopub.status.busy": "2025-04-13T18:58:29.551837Z",
     "iopub.status.idle": "2025-04-13T18:59:08.897776Z",
     "shell.execute_reply": "2025-04-13T18:59:08.896539Z"
    },
    "papermill": {
     "duration": 39.350884,
     "end_time": "2025-04-13T18:59:08.899516",
     "exception": false,
     "start_time": "2025-04-13T18:58:29.548632",
     "status": "completed"
    },
    "tags": []
   },
   "outputs": [
    {
     "name": "stdout",
     "output_type": "stream",
     "text": [
      "Iteration: 0 - Accuracy: 0.0587\n",
      "Iteration: 50 - Accuracy: 0.5081\n",
      "Iteration: 100 - Accuracy: 0.6625\n",
      "Iteration: 150 - Accuracy: 0.7264\n",
      "Iteration: 200 - Accuracy: 0.7689\n",
      "Iteration: 250 - Accuracy: 0.7955\n",
      "Iteration: 300 - Accuracy: 0.8139\n",
      "Iteration: 350 - Accuracy: 0.8278\n",
      "Iteration: 400 - Accuracy: 0.8381\n",
      "Iteration: 450 - Accuracy: 0.8460\n"
     ]
    }
   ],
   "source": [
    "w1, b1, w2, b2 = gradient_descent(x_train, y_train, 500, 0.1)"
   ]
  },
  {
   "cell_type": "code",
   "execution_count": null,
   "id": "a26f627a",
   "metadata": {
    "papermill": {
     "duration": 0.003054,
     "end_time": "2025-04-13T18:59:09.137591",
     "exception": false,
     "start_time": "2025-04-13T18:59:09.134537",
     "status": "completed"
    },
    "tags": []
   },
   "outputs": [],
   "source": []
  }
 ],
 "metadata": {
  "kaggle": {
   "accelerator": "none",
   "dataSources": [
    {
     "datasetId": 3147,
     "sourceId": 5196,
     "sourceType": "datasetVersion"
    }
   ],
   "dockerImageVersionId": 31012,
   "isGpuEnabled": false,
   "isInternetEnabled": false,
   "language": "python",
   "sourceType": "notebook"
  },
  "kernelspec": {
   "display_name": "Python 3",
   "language": "python",
   "name": "python3"
  },
  "language_info": {
   "codemirror_mode": {
    "name": "ipython",
    "version": 3
   },
   "file_extension": ".py",
   "mimetype": "text/x-python",
   "name": "python",
   "nbconvert_exporter": "python",
   "pygments_lexer": "ipython3",
   "version": "3.11.11"
  },
  "papermill": {
   "default_parameters": {},
   "duration": 51.860474,
   "end_time": "2025-04-13T18:59:09.660660",
   "environment_variables": {},
   "exception": null,
   "input_path": "__notebook__.ipynb",
   "output_path": "__notebook__.ipynb",
   "parameters": {},
   "start_time": "2025-04-13T18:58:17.800186",
   "version": "2.6.0"
  }
 },
 "nbformat": 4,
 "nbformat_minor": 5
}
