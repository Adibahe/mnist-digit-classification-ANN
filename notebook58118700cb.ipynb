{
 "cells": [
  {
   "cell_type": "code",
   "execution_count": null,
   "id": "ddcf2168",
   "metadata": {
    "_cell_guid": "b1076dfc-b9ad-4769-8c92-a6c4dae69d19",
    "_uuid": "8f2839f25d086af736a60e9eeb907d3b93b6e0e5",
    "execution": {
     "iopub.execute_input": "2025-04-13T08:14:45.278655Z",
     "iopub.status.busy": "2025-04-13T08:14:45.278350Z",
     "iopub.status.idle": "2025-04-13T08:14:46.959648Z",
     "shell.execute_reply": "2025-04-13T08:14:46.958806Z"
    },
    "papermill": {
     "duration": 1.6867,
     "end_time": "2025-04-13T08:14:46.961336",
     "exception": false,
     "start_time": "2025-04-13T08:14:45.274636",
     "status": "completed"
    },
    "tags": []
   },
   "outputs": [],
   "source": [
    "import numpy as np\n",
    "import pandas as pd\n",
    "from matplotlib import pyplot as plt"
   ]
  },
  {
   "cell_type": "code",
   "execution_count": null,
   "id": "c02967b1",
   "metadata": {
    "execution": {
     "iopub.execute_input": "2025-04-13T08:14:46.966988Z",
     "iopub.status.busy": "2025-04-13T08:14:46.966586Z",
     "iopub.status.idle": "2025-04-13T08:14:50.734357Z",
     "shell.execute_reply": "2025-04-13T08:14:50.733549Z"
    },
    "papermill": {
     "duration": 3.772078,
     "end_time": "2025-04-13T08:14:50.735932",
     "exception": false,
     "start_time": "2025-04-13T08:14:46.963854",
     "status": "completed"
    },
    "tags": []
   },
   "outputs": [],
   "source": [
    "data = pd.read_csv('/kaggle/input/mnist-digit-recognizer/train.csv')\n",
    "data = np.array(data)\n",
    "m, n = data.shape \n",
    "np.random.shuffle(data)"
   ]
  },
  {
   "cell_type": "code",
   "execution_count": null,
   "id": "3db5f1a1",
   "metadata": {
    "execution": {
     "iopub.execute_input": "2025-04-13T08:14:50.741242Z",
     "iopub.status.busy": "2025-04-13T08:14:50.740698Z",
     "iopub.status.idle": "2025-04-13T08:14:50.873418Z",
     "shell.execute_reply": "2025-04-13T08:14:50.872649Z"
    },
    "papermill": {
     "duration": 0.136915,
     "end_time": "2025-04-13T08:14:50.875036",
     "exception": false,
     "start_time": "2025-04-13T08:14:50.738121",
     "status": "completed"
    },
    "tags": []
   },
   "outputs": [],
   "source": [
    "data_dev = data[:1000].T\n",
    "y_test = data_dev[0].astype(int)       \n",
    "x_test = data_dev[1:] / 255.0           \n",
    "\n",
    "data_train = data[1000:].T\n",
    "y_train = data_train[0].astype(int) \n",
    "x_train = data_train[1:] / 255.0       "
   ]
  },
  {
   "cell_type": "code",
   "execution_count": null,
   "id": "ef3bcdc5",
   "metadata": {
    "execution": {
     "iopub.execute_input": "2025-04-13T08:14:50.881064Z",
     "iopub.status.busy": "2025-04-13T08:14:50.880440Z",
     "iopub.status.idle": "2025-04-13T08:14:50.890395Z",
     "shell.execute_reply": "2025-04-13T08:14:50.889643Z"
    },
    "papermill": {
     "duration": 0.014205,
     "end_time": "2025-04-13T08:14:50.891742",
     "exception": false,
     "start_time": "2025-04-13T08:14:50.877537",
     "status": "completed"
    },
    "tags": []
   },
   "outputs": [],
   "source": []
  },
  {
   "cell_type": "code",
   "execution_count": null,
   "id": "233548ae",
   "metadata": {
    "execution": {
     "iopub.execute_input": "2025-04-13T08:14:50.897457Z",
     "iopub.status.busy": "2025-04-13T08:14:50.896897Z",
     "iopub.status.idle": "2025-04-13T08:14:50.902932Z",
     "shell.execute_reply": "2025-04-13T08:14:50.902280Z"
    },
    "papermill": {
     "duration": 0.010111,
     "end_time": "2025-04-13T08:14:50.904180",
     "exception": false,
     "start_time": "2025-04-13T08:14:50.894069",
     "status": "completed"
    },
    "tags": []
   },
   "outputs": [],
   "source": []
  },
  {
   "cell_type": "code",
   "execution_count": null,
   "id": "650f4310",
   "metadata": {
    "papermill": {
     "duration": 0.004461,
     "end_time": "2025-04-13T08:15:26.324438",
     "exception": false,
     "start_time": "2025-04-13T08:15:26.319977",
     "status": "completed"
    },
    "tags": []
   },
   "outputs": [],
   "source": []
  }
 ],
 "metadata": {
  "kaggle": {
   "accelerator": "none",
   "dataSources": [
    {
     "datasetId": 3147,
     "sourceId": 5196,
     "sourceType": "datasetVersion"
    }
   ],
   "dockerImageVersionId": 31012,
   "isGpuEnabled": false,
   "isInternetEnabled": false,
   "language": "python",
   "sourceType": "notebook"
  },
  "kernelspec": {
   "display_name": "Python 3",
   "language": "python",
   "name": "python3"
  },
  "language_info": {
   "codemirror_mode": {
    "name": "ipython",
    "version": 3
   },
   "file_extension": ".py",
   "mimetype": "text/x-python",
   "name": "python",
   "nbconvert_exporter": "python",
   "pygments_lexer": "ipython3",
   "version": "3.11.11"
  },
  "papermill": {
   "default_parameters": {},
   "duration": 45.982135,
   "end_time": "2025-04-13T08:15:26.846783",
   "environment_variables": {},
   "exception": null,
   "input_path": "__notebook__.ipynb",
   "output_path": "__notebook__.ipynb",
   "parameters": {},
   "start_time": "2025-04-13T08:14:40.864648",
   "version": "2.6.0"
  }
 },
 "nbformat": 4,
 "nbformat_minor": 5
}
