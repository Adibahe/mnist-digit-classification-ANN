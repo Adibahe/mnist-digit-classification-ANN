{
 "cells": [
  {
   "cell_type": "code",
   "execution_count": null,
   "id": "ddcf2168",
   "metadata": {
    "_cell_guid": "b1076dfc-b9ad-4769-8c92-a6c4dae69d19",
    "_uuid": "8f2839f25d086af736a60e9eeb907d3b93b6e0e5",
    "execution": {
     "iopub.execute_input": "2025-04-13T08:14:45.278655Z",
     "iopub.status.busy": "2025-04-13T08:14:45.278350Z",
     "iopub.status.idle": "2025-04-13T08:14:46.959648Z",
     "shell.execute_reply": "2025-04-13T08:14:46.958806Z"
    },
    "papermill": {
     "duration": 1.6867,
     "end_time": "2025-04-13T08:14:46.961336",
     "exception": false,
     "start_time": "2025-04-13T08:14:45.274636",
     "status": "completed"
    },
    "tags": []
   },
   "outputs": [],
   "source": [
    "import numpy as np\n",
    "import pandas as pd\n",
    "from matplotlib import pyplot as plt"
   ]
  },
  {
   "cell_type": "code",
   "execution_count": 2,
   "id": "c02967b1",
   "metadata": {
    "execution": {
     "iopub.execute_input": "2025-04-13T08:14:46.966988Z",
     "iopub.status.busy": "2025-04-13T08:14:46.966586Z",
     "iopub.status.idle": "2025-04-13T08:14:50.734357Z",
     "shell.execute_reply": "2025-04-13T08:14:50.733549Z"
    },
    "papermill": {
     "duration": 3.772078,
     "end_time": "2025-04-13T08:14:50.735932",
     "exception": false,
     "start_time": "2025-04-13T08:14:46.963854",
     "status": "completed"
    },
    "tags": []
   },
   "outputs": [],
   "source": [
    "data = pd.read_csv('/kaggle/input/mnist-digit-recognizer/train.csv')\n",
    "data = np.array(data)\n",
    "m, n = data.shape \n",
    "np.random.shuffle(data)"
   ]
  },
  {
   "cell_type": "code",
   "execution_count": null,
   "id": "3db5f1a1",
   "metadata": {
    "execution": {
     "iopub.execute_input": "2025-04-13T08:14:50.741242Z",
     "iopub.status.busy": "2025-04-13T08:14:50.740698Z",
     "iopub.status.idle": "2025-04-13T08:14:50.873418Z",
     "shell.execute_reply": "2025-04-13T08:14:50.872649Z"
    },
    "papermill": {
     "duration": 0.136915,
     "end_time": "2025-04-13T08:14:50.875036",
     "exception": false,
     "start_time": "2025-04-13T08:14:50.738121",
     "status": "completed"
    },
    "tags": []
   },
   "outputs": [],
   "source": [
    "data_dev = data[:1000].T\n",
    "y_test = data_dev[0].astype(int)       \n",
    "x_test = data_dev[1:] / 255.0           \n",
    "\n",
    "data_train = data[1000:].T\n",
    "y_train = data_train[0].astype(int) \n",
    "x_train = data_train[1:] / 255.0       "
   ]
  },
  {
   "cell_type": "code",
   "execution_count": null,
   "id": "ef3bcdc5",
   "metadata": {
    "execution": {
     "iopub.execute_input": "2025-04-13T08:14:50.881064Z",
     "iopub.status.busy": "2025-04-13T08:14:50.880440Z",
     "iopub.status.idle": "2025-04-13T08:14:50.890395Z",
     "shell.execute_reply": "2025-04-13T08:14:50.889643Z"
    },
    "papermill": {
     "duration": 0.014205,
     "end_time": "2025-04-13T08:14:50.891742",
     "exception": false,
     "start_time": "2025-04-13T08:14:50.877537",
     "status": "completed"
    },
    "tags": []
   },
   "outputs": [],
   "source": [
    "def initial_parameters():\n",
    "    W1 = np.random.rand(10, 784) - 0.5\n",
    "    b1 = np.random.rand(10, 1) - 0.5\n",
    "    W2 = np.random.rand(10, 10) - 0.5\n",
    "    b2 = np.random.rand(10, 1) - 0.5\n",
    "    return W1, b1, W2, b2\n",
    "\n",
    "\n",
    "def relu(z):\n",
    "    return np.maximum(0, z)\n",
    "\n",
    "def softmax(z):\n",
    "    exp_z = np.exp(z - np.max(z, axis=0, keepdims=True))  \n",
    "    return exp_z / np.sum(exp_z, axis=0, keepdims=True)\n",
    "\n",
    "\n",
    "def forward_propagation(W1, b1, W2, b2, X):\n",
    "    z1 = W1.dot(X) + b1\n",
    "    a1 = relu(z1)\n",
    "    z2 = W2.dot(a1) + b2\n",
    "    a2 = softmax(z2)\n",
    "    return z1, a1, z2, a2\n",
    "\n",
    "\n",
    "def one_hot(Y):\n",
    "    one_hot_y = np.zeros((Y.size, Y.max() + 1))\n",
    "    one_hot_y[np.arange(Y.size), Y.astype(int)] = 1\n",
    "    return one_hot_y.T\n",
    "\n",
    "\n",
    "def deriv_relu(Z):\n",
    "    return Z > 0\n",
    "\n",
    "\n",
    "def back_propagation(z1, a1, z2, a2, W2, X, Y):\n",
    "    m = Y.size\n",
    "    one_hot_y = one_hot(Y)\n",
    "    \n",
    "    dz2 = a2 - one_hot_y\n",
    "    dw2 = (1 / m) * dz2.dot(a1.T)\n",
    "    db2 = (1 / m) * np.sum(dz2, axis=1, keepdims=True)\n",
    "    \n",
    "    dz1 = W2.T.dot(dz2) * deriv_relu(z1)\n",
    "    dw1 = (1 / m) * dz1.dot(X.T)\n",
    "    db1 = (1 / m) * np.sum(dz1, axis=1, keepdims=True)\n",
    "    \n",
    "    return dw1, db1, dw2, db2\n",
    "\n",
    "\n",
    "def update_params(W1, b1, W2, b2, dw1, db1, dw2, db2, alpha):\n",
    "    W1 = W1 - alpha * dw1\n",
    "    b1 = b1 - alpha * db1\n",
    "    W2 = W2 - alpha * dw2\n",
    "    b2 = b2 - alpha * db2\n",
    "    return W1, b1, W2, b2\n"
   ]
  },
  {
   "cell_type": "code",
   "execution_count": null,
   "id": "233548ae",
   "metadata": {
    "execution": {
     "iopub.execute_input": "2025-04-13T08:14:50.897457Z",
     "iopub.status.busy": "2025-04-13T08:14:50.896897Z",
     "iopub.status.idle": "2025-04-13T08:14:50.902932Z",
     "shell.execute_reply": "2025-04-13T08:14:50.902280Z"
    },
    "papermill": {
     "duration": 0.010111,
     "end_time": "2025-04-13T08:14:50.904180",
     "exception": false,
     "start_time": "2025-04-13T08:14:50.894069",
     "status": "completed"
    },
    "tags": []
   },
   "outputs": [],
   "source": [
    "def get_predictions(a2):\n",
    "    return np.argmax(a2, axis=0)\n",
    "\n",
    "\n",
    "def get_accuracy(predictions, Y):\n",
    "    return np.sum(predictions == Y) / Y.size\n",
    "\n",
    "\n",
    "def gradient_descent(X, Y, iterations, alpha):\n",
    "    W1, b1, W2, b2 = initial_parameters()\n",
    "    \n",
    "    for i in range(iterations):\n",
    "        z1, a1, z2, a2 = forward_propagation(W1, b1, W2, b2, X)\n",
    "        dw1, db1, dw2, db2 = back_propagation(z1, a1, z2, a2, W2, X, Y)\n",
    "        W1, b1, W2, b2 = update_params(W1, b1, W2, b2, dw1, db1, dw2, db2, alpha)\n",
    "        \n",
    "        if i % 10 == 0:\n",
    "            predictions = get_predictions(a2)\n",
    "            accuracy = get_accuracy(predictions, Y)\n",
    "            print(f\"Iteration: {i} - Accuracy: {accuracy:.4f}\")\n",
    "    \n",
    "    return W1, b1, W2, b2"
   ]
  },
  {
   "cell_type": "code",
   "execution_count": null,
   "id": "650f4310",
   "metadata": {
    "papermill": {
     "duration": 0.004461,
     "end_time": "2025-04-13T08:15:26.324438",
     "exception": false,
     "start_time": "2025-04-13T08:15:26.319977",
     "status": "completed"
    },
    "tags": []
   },
   "outputs": [],
   "source": []
  }
 ],
 "metadata": {
  "kaggle": {
   "accelerator": "none",
   "dataSources": [
    {
     "datasetId": 3147,
     "sourceId": 5196,
     "sourceType": "datasetVersion"
    }
   ],
   "dockerImageVersionId": 31012,
   "isGpuEnabled": false,
   "isInternetEnabled": false,
   "language": "python",
   "sourceType": "notebook"
  },
  "kernelspec": {
   "display_name": "Python 3",
   "language": "python",
   "name": "python3"
  },
  "language_info": {
   "codemirror_mode": {
    "name": "ipython",
    "version": 3
   },
   "file_extension": ".py",
   "mimetype": "text/x-python",
   "name": "python",
   "nbconvert_exporter": "python",
   "pygments_lexer": "ipython3",
   "version": "3.11.11"
  },
  "papermill": {
   "default_parameters": {},
   "duration": 45.982135,
   "end_time": "2025-04-13T08:15:26.846783",
   "environment_variables": {},
   "exception": null,
   "input_path": "__notebook__.ipynb",
   "output_path": "__notebook__.ipynb",
   "parameters": {},
   "start_time": "2025-04-13T08:14:40.864648",
   "version": "2.6.0"
  }
 },
 "nbformat": 4,
 "nbformat_minor": 5
}
